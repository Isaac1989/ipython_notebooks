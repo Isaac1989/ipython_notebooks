{
 "metadata": {
  "name": "",
  "signature": "sha256:4d47fb78cf615782864e70d01eaf8fd7d18592a44be915d3588e9a2eb87d7d12"
 },
 "nbformat": 3,
 "nbformat_minor": 0,
 "worksheets": [
  {
   "cells": [
    {
     "cell_type": "code",
     "collapsed": false,
     "input": [
      "# FREE-FLOATING FIGURES\n",
      "%pylab \n",
      "\n",
      "from scipy.io import loadmat\n",
      "import tsne\n",
      "\n",
      "# LOAD DATA AND PREPROCESS\n",
      "data = loadmat('/home/dustin/data/featureLearning/labeledFacesInTheWild/compiledData-Cropped-Resized-32')['dataResize']\n",
      "data_0 = data.reshape(32*32,data.shape[2]).astype('float')\n",
      "data = data_0.copy()\n",
      "\n",
      "data -= data.mean(0)\n",
      "# data = data / data.std(0);\n",
      "\n",
      "# DISPLAY AN IMAGE\n",
      "plt.set_cmap('gray');\n",
      "imshow(data[:,0].reshape(32,32));\n",
      "n_embedded = 2000"
     ],
     "language": "python",
     "metadata": {},
     "outputs": [
      {
       "output_type": "stream",
       "stream": "stdout",
       "text": [
        "Using matplotlib backend: TkAgg\n",
        "Populating the interactive namespace from numpy and matplotlib\n"
       ]
      }
     ],
     "prompt_number": 113
    },
    {
     "cell_type": "code",
     "collapsed": false,
     "input": [
      "#RUN TSNE TO GET LOW-D EMBEDDING\n",
      "data_embed = tsne.bh_sne(data[:,:n_embedded].T, pca_d=30, perplexity=5)"
     ],
     "language": "python",
     "metadata": {},
     "outputs": [],
     "prompt_number": 70
    },
    {
     "cell_type": "code",
     "collapsed": false,
     "input": [
      "thumb_size = 4\n",
      "for ii in range(0,n_embedded,2):\n",
      "    plt.imshow(data_0[:,ii].reshape(32,32),\n",
      "               extent=[data_embed[ii,0], data_embed[ii,0] + thumb_size,\n",
      "                       data_embed[ii,1], data_embed[ii,1] + thumb_size])\n",
      "    \n",
      "xlim(data_embed.min(),data_embed.max());\n",
      "ylim(data_embed.min(),data_embed.max());"
     ],
     "language": "python",
     "metadata": {},
     "outputs": []
    },
    {
     "cell_type": "code",
     "collapsed": false,
     "input": [
      "# RUN ISOMAP TO GET LOW-D EMBEDDING\n",
      "from sklearn.manifold import Isomap\n",
      "\n",
      "map = Isomap(n_neighbors=100,n_components=2,neighbors_algorithm='kd_tree')\n",
      "map.fit(data[:,:n_embedded].T)"
     ],
     "language": "python",
     "metadata": {},
     "outputs": [
      {
       "metadata": {},
       "output_type": "pyout",
       "prompt_number": 114,
       "text": [
        "Isomap(eigen_solver='auto', max_iter=None, n_components=2, n_neighbors=100,\n",
        "    neighbors_algorithm='kd_tree', path_method='auto', tol=0)"
       ]
      }
     ],
     "prompt_number": 114
    },
    {
     "cell_type": "code",
     "collapsed": false,
     "input": [
      "print map.embedding_.shape\n",
      "plt.scatter(map.embedding_[:,0],map.embedding_[:,1]);"
     ],
     "language": "python",
     "metadata": {},
     "outputs": [
      {
       "output_type": "stream",
       "stream": "stdout",
       "text": [
        "(2000, 2)\n"
       ]
      }
     ],
     "prompt_number": 110
    },
    {
     "cell_type": "code",
     "collapsed": false,
     "input": [
      "thumb_size = 200\n",
      "for ii in range(0,n_embedded,5):\n",
      "    plt.imshow(data_0[:,ii].reshape(32,32),\n",
      "               extent=[map.embedding_[ii,0], map.embedding_[ii,0] + thumb_size,\n",
      "                       map.embedding_[ii,1], map.embedding_[ii,1] + thumb_size])\n",
      "    \n",
      "xlim(map.embedding_[:,0].min(),map.embedding_[:,0].max());\n",
      "ylim(map.embedding_[:,1].min(),map.embedding_[:,1].max());"
     ],
     "language": "python",
     "metadata": {},
     "outputs": [],
     "prompt_number": 117
    },
    {
     "cell_type": "code",
     "collapsed": false,
     "input": [],
     "language": "python",
     "metadata": {},
     "outputs": []
    },
    {
     "cell_type": "code",
     "collapsed": false,
     "input": [],
     "language": "python",
     "metadata": {},
     "outputs": []
    },
    {
     "cell_type": "code",
     "collapsed": false,
     "input": [],
     "language": "python",
     "metadata": {},
     "outputs": []
    },
    {
     "cell_type": "code",
     "collapsed": false,
     "input": [],
     "language": "python",
     "metadata": {},
     "outputs": []
    },
    {
     "cell_type": "code",
     "collapsed": false,
     "input": [],
     "language": "python",
     "metadata": {},
     "outputs": []
    },
    {
     "cell_type": "code",
     "collapsed": false,
     "input": [],
     "language": "python",
     "metadata": {},
     "outputs": []
    }
   ],
   "metadata": {}
  }
 ]
}