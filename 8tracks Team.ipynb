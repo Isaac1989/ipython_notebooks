{
 "metadata": {
  "name": "",
  "signature": "sha256:3ad37af83671c03956478ff6e390646cea56a82c8bcf506ccd861f2260533ce1"
 },
 "nbformat": 3,
 "nbformat_minor": 0,
 "worksheets": [
  {
   "cells": [
    {
     "cell_type": "code",
     "collapsed": false,
     "input": [
      "import urllib2\n",
      "\n",
      "# GET 8TRACKS TEAM HTML\n",
      "address = 'http://8tracks.com/team'\n",
      "url = urllib2.urlopen(address)\n",
      "page_source = url.read()"
     ],
     "language": "python",
     "metadata": {},
     "outputs": [],
     "prompt_number": 1
    },
    {
     "cell_type": "code",
     "collapsed": false,
     "input": [
      "# PARSE THE HTML (REQUIRES BEAUTIFULSOUP4)\n",
      "from bs4 import BeautifulSoup\n",
      "import re\n",
      "\n",
      "# EXTRACT TEAM INFORMATION\n",
      "bs = BeautifulSoup(page_source)\n",
      "team = [p.text for p in bs.find_all('p') if len(re.findall('http', p.text)) == 0]\n",
      "team = [member.strip().lower() for member in team];\n",
      "\n",
      "# REMOVE COMMON PUNCTUATION\n",
      "team = [[word.strip('.').strip(',').strip(\"-\").strip('!').strip('\"').strip('(').strip(')')\n",
      "         for word in member.split()] for member in team]\n",
      "\n",
      "# GET ALL WORDS\n",
      "all_words = list(concatenate(team))\n",
      "\n",
      "# REMOVE RARE (i.e SINGLE) WORDS\n",
      "single_words = [word for word in all_words if all_words.count(word) == 1]\n",
      "team = [[word for word in member if word not in single_words]\n",
      "         for member in team]\n",
      "\n",
      "# FIND WORD FREQUENCIES\n",
      "\n",
      "unique_words = np.unique(all_words)\n",
      "counts = np.array([all_words.count(word) for word in unique_words])\n",
      "sort_idx = sorted(range(len(counts)),key=counts.__getitem__)\n",
      "\n",
      "'''\n",
      "# DISPLAY MOST COMMON WORDS\n",
      "n_show = 50\n",
      "figure(figsize=(10,5))\n",
      "barh(range(len(counts)), counts[sort_idx])\n",
      "plt.yticks(arange(len(counts))-0.5, list(unique_words[sort_idx]))\n",
      "plt.ylim([len(counts) - n_show,len(counts)])\n",
      "\n",
      "# DISPLAY LEAST COMMON WORDS\n",
      "figure(figsize=(10,5))\n",
      "barh(range(len(counts)), counts[sort_idx])\n",
      "plt.yticks(arange(len(counts))-0.5, list(unique_words[sort_idx]))\n",
      "plt.ylim([0, n_show])\n",
      "plt.xlim([0, 2])\n",
      "'''\n",
      "\n",
      "# REMOVE MOST COMMON/STOP WORDS\n",
      "n_remove_top = 30\n",
      "stoplist = list(unique_words[sort_idx[:-n_remove_top:-1]])\n",
      "team = [[word for word in member if word not in stoplist] for member in team]"
     ],
     "language": "python",
     "metadata": {},
     "outputs": [],
     "prompt_number": 15
    },
    {
     "cell_type": "code",
     "collapsed": false,
     "input": [
      "from gensim import corpora, models \n",
      "\n",
      "# CREATE DICTIONARY FROM WORDS\n",
      "dictionary = corpora.Dictionary(team)\n",
      "print(dictionary)\n",
      "#print(dictionary.token2id)\n",
      "\n",
      "# CREATE BAG-OF-WORDS REPRESENTATION\n",
      "bow = [dictionary.doc2bow(member) for member in team]"
     ],
     "language": "python",
     "metadata": {},
     "outputs": [
      {
       "output_type": "stream",
       "stream": "stdout",
       "text": [
        "Dictionary(312 unique tokens: [u'operations', u'advisory', u'all', u'responsible', u'stores']...)\n"
       ]
      }
     ],
     "prompt_number": 16
    },
    {
     "cell_type": "code",
     "collapsed": false,
     "input": [
      "model = models.TfidfModel(bow)\n",
      "#model = models.lsimodel.LsiModel(bow, id2word=dictionary, num_topics=5)\n",
      "#model = models.ldamodel.LdaModel(bow, id2word=dictionary, passes=10, num_topics=5, iterations=100)\n",
      "#model = models.hdpmodel.HdpModel(bow, id2word=dictionary, chunksize=5, kappa=2, K=4, T=10)\n",
      "#model.show_topics(formatted=False)[1]\n"
     ],
     "language": "python",
     "metadata": {},
     "outputs": [
      {
       "output_type": "stream",
       "stream": "stdout",
       "text": [
        "56\n"
       ]
      }
     ],
     "prompt_number": 17
    },
    {
     "cell_type": "code",
     "collapsed": false,
     "input": [],
     "language": "python",
     "metadata": {},
     "outputs": []
    },
    {
     "cell_type": "code",
     "collapsed": false,
     "input": [],
     "language": "python",
     "metadata": {},
     "outputs": []
    }
   ],
   "metadata": {}
  }
 ]
}